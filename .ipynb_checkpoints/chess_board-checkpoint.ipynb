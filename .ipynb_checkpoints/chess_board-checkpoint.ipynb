{
 "cells": [
  {
   "cell_type": "code",
   "execution_count": 4,
   "metadata": {},
   "outputs": [
    {
     "name": "stdout",
     "output_type": "stream",
     "text": [
      "False\n"
     ]
    },
    {
     "data": {
      "image/png": "[encoded data removed]",
      "text/plain": [
       "<Figure size 432x288 with 1 Axes>"
      ]
     },
     "metadata": {
      "needs_background": "light"
     },
     "output_type": "display_data"
    }
   ],
   "source": [
    "import numpy as np\n",
    "import matplotlib.pyplot as plt\n",
    "\n",
    "class ChessBoard:\n",
    "    white = [1,1,1]\n",
    "    blue = [0,0,1]\n",
    "    red = [1,0,0]\n",
    "\n",
    "\n",
    "    def __init__(self):\n",
    "        self.grid = np.zeros([8,8,3])\n",
    "        self.add_White()\n",
    "        self.blue_x = 0\n",
    "        self.blue_y = 0\n",
    "        self.red_x = 0\n",
    "        self.red_y = 0\n",
    "       \n",
    "        \n",
    "        \n",
    "    \n",
    "\n",
    "    def add_White(self):\n",
    "        \"\"\"\n",
    "        Add white color to make chess board\n",
    "        \"\"\"\n",
    "        for i in range(8):\n",
    "            for j in range(8):\n",
    "                if (i%2==0 and j%2==0) or (i%2==1 and j%2==1):\n",
    "                    self.grid[i,j] = ChessBoard.white\n",
    "\n",
    "    \n",
    "    def render(self):\n",
    "        \"\"\"\n",
    "        Drow the chess board\n",
    "        \"\"\"\n",
    "        plt.imshow(self.grid)\n",
    "\n",
    "    \n",
    "    def add_red(self,row,column):\n",
    "        \"\"\"\n",
    "        Add red queen in this way (x,y)\n",
    "        \"\"\"\n",
    "        self.red_y = column\n",
    "        self.red_x = row\n",
    "        self.grid[column,row] = ChessBoard.red\n",
    "\n",
    "    \n",
    "    def add_blue(self,row,column):\n",
    "        \"\"\"\n",
    "        Add blue queen in this way (x,y)\n",
    "        \"\"\"\n",
    "        self.blue_y = column\n",
    "        self.blue_x = row\n",
    "        self.grid[column,row] = ChessBoard.blue\n",
    "\n",
    "    \n",
    "    def is_diagonal(self):\n",
    "        \"\"\"\n",
    "        Given coordinates for 2 points a and b\n",
    "        determine if they are diagonals\n",
    "        \"\"\"\n",
    "        dx = abs(self.red_x - self.blue_x)\n",
    "        dy = abs(self.red_y - self.blue_y)\n",
    "        return dx == dy\n",
    "\n",
    "    \n",
    "  \n",
    "    def is_under_attack(self):\n",
    "        \"\"\"\n",
    "        Check if anyone of the queens is under attack\n",
    "        \"\"\"\n",
    "        diagonal = self.is_diagonal()\n",
    "        \n",
    "        if self.red_x == self.blue_x:\n",
    "            return True\n",
    "        elif self.red_y == self.blue_y:\n",
    "            return True\n",
    "        elif diagonal:\n",
    "            return True\n",
    "        else:\n",
    "            return False\n",
    "\n",
    "\n",
    "board = ChessBoard()\n",
    "board.add_red(6,4)\n",
    "board.add_blue(3,0)\n",
    "print(board.is_under_attack())\n",
    "board.render()\n",
    "\n",
    "\n",
    "\n",
    "\n",
    "#vertical\n",
    "board.add_red(3,4)\n",
    "board.add_blue(3,0)\n",
    "assert board.is_under_attack() == True"
   ]
  },
  {
   "cell_type": "code",
   "execution_count": 5,
   "metadata": {},
   "outputs": [],
   "source": [
    "#horizential\n",
    "board.add_red(2,4)\n",
    "board.add_blue(6,4)\n",
    "assert board.is_under_attack() == True\n"
   ]
  },
  {
   "cell_type": "code",
   "execution_count": 6,
   "metadata": {},
   "outputs": [],
   "source": [
    "#diagonal\n",
    "board.add_red(7,4)\n",
    "board.add_blue(3,0)\n",
    "assert board.is_under_attack() == True"
   ]
  },
  {
   "cell_type": "code",
   "execution_count": 7,
   "metadata": {},
   "outputs": [
    {
     "name": "stdout",
     "output_type": "stream",
     "text": [
      "All tests passed!!!!!!\n"
     ]
    }
   ],
   "source": [
    "\n",
    "#not under attack\n",
    "board.add_red(6,4)\n",
    "board.add_blue(3,0)\n",
    "assert board.is_under_attack() == False\n",
    "print('All tests passed!!!!!!')"
   ]
  },
  {
   "cell_type": "code",
   "execution_count": null,
   "metadata": {},
   "outputs": [],
   "source": []
  }
 ],
 "metadata": {
  "kernelspec": {
   "display_name": "Python 3",
   "language": "python",
   "name": "python3"
  },
  "language_info": {
   "codemirror_mode": {
    "name": "ipython",
    "version": 3
   },
   "file_extension": ".py",
   "mimetype": "text/x-python",
   "name": "python",
   "nbconvert_exporter": "python",
   "pygments_lexer": "ipython3",
   "version": "3.9.4"
  },
  "metadata": {
   "interpreter": {
    "hash": "146e08cc9716509d4a75b0e7c2ab319f6b2e22ed30aa118477ae5e3066ef0f37"
   }
  }
 },
 "nbformat": 4,
 "nbformat_minor": 4
}
